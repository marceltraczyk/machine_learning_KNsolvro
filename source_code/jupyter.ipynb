{
 "cells": [
  {
   "cell_type": "code",
   "execution_count": 1,
   "metadata": {},
   "outputs": [
    {
     "data": {
      "text/html": [
       "<div>\n",
       "<style scoped>\n",
       "    .dataframe tbody tr th:only-of-type {\n",
       "        vertical-align: middle;\n",
       "    }\n",
       "\n",
       "    .dataframe tbody tr th {\n",
       "        vertical-align: top;\n",
       "    }\n",
       "\n",
       "    .dataframe thead th {\n",
       "        text-align: right;\n",
       "    }\n",
       "</style>\n",
       "<table border=\"1\" class=\"dataframe\">\n",
       "  <thead>\n",
       "    <tr style=\"text-align: right;\">\n",
       "      <th></th>\n",
       "      <th>id</th>\n",
       "      <th>name</th>\n",
       "      <th>category</th>\n",
       "      <th>glass</th>\n",
       "      <th>tags</th>\n",
       "      <th>alcoholic</th>\n",
       "      <th>ingredients</th>\n",
       "    </tr>\n",
       "  </thead>\n",
       "  <tbody>\n",
       "    <tr>\n",
       "      <th>0</th>\n",
       "      <td>11000</td>\n",
       "      <td>Mojito</td>\n",
       "      <td>Cocktail</td>\n",
       "      <td>Highball glass</td>\n",
       "      <td>IBA, ContemporaryClassic, Alcoholic, USA, Asia...</td>\n",
       "      <td>1</td>\n",
       "      <td>Soda water, Light Rum, Lime, Mint, Sugar</td>\n",
       "    </tr>\n",
       "    <tr>\n",
       "      <th>1</th>\n",
       "      <td>11001</td>\n",
       "      <td>Old Fashioned</td>\n",
       "      <td>Cocktail</td>\n",
       "      <td>Old-fashioned glass</td>\n",
       "      <td>IBA, Classic, Alcoholic, Expensive, Savory</td>\n",
       "      <td>1</td>\n",
       "      <td>Water, Sugar, Angostura Bitters, Bourbon</td>\n",
       "    </tr>\n",
       "    <tr>\n",
       "      <th>2</th>\n",
       "      <td>11002</td>\n",
       "      <td>Long Island Tea</td>\n",
       "      <td>Ordinary Drink</td>\n",
       "      <td>Highball glass</td>\n",
       "      <td>Strong, Asia, StrongFlavor, Brunch, Vegetarian...</td>\n",
       "      <td>1</td>\n",
       "      <td>Light Rum, lemon, Vodka, Gin, Tequila, Coca-Cola</td>\n",
       "    </tr>\n",
       "    <tr>\n",
       "      <th>3</th>\n",
       "      <td>11003</td>\n",
       "      <td>Negroni</td>\n",
       "      <td>Ordinary Drink</td>\n",
       "      <td>Old-fashioned glass</td>\n",
       "      <td>IBA, Classic</td>\n",
       "      <td>1</td>\n",
       "      <td>Sweet Vermouth, Gin, Campari</td>\n",
       "    </tr>\n",
       "    <tr>\n",
       "      <th>4</th>\n",
       "      <td>11004</td>\n",
       "      <td>Whiskey Sour</td>\n",
       "      <td>Ordinary Drink</td>\n",
       "      <td>Old-fashioned glass</td>\n",
       "      <td>IBA, Classic, Alcoholic, ContemporaryClassic</td>\n",
       "      <td>1</td>\n",
       "      <td>Powdered Sugar, lemon, Blended Whiskey, Cherry</td>\n",
       "    </tr>\n",
       "  </tbody>\n",
       "</table>\n",
       "</div>"
      ],
      "text/plain": [
       "      id             name        category                glass  \\\n",
       "0  11000           Mojito        Cocktail       Highball glass   \n",
       "1  11001    Old Fashioned        Cocktail  Old-fashioned glass   \n",
       "2  11002  Long Island Tea  Ordinary Drink       Highball glass   \n",
       "3  11003          Negroni  Ordinary Drink  Old-fashioned glass   \n",
       "4  11004     Whiskey Sour  Ordinary Drink  Old-fashioned glass   \n",
       "\n",
       "                                                tags  alcoholic  \\\n",
       "0  IBA, ContemporaryClassic, Alcoholic, USA, Asia...          1   \n",
       "1         IBA, Classic, Alcoholic, Expensive, Savory          1   \n",
       "2  Strong, Asia, StrongFlavor, Brunch, Vegetarian...          1   \n",
       "3                                       IBA, Classic          1   \n",
       "4       IBA, Classic, Alcoholic, ContemporaryClassic          1   \n",
       "\n",
       "                                        ingredients  \n",
       "0          Soda water, Light Rum, Lime, Mint, Sugar  \n",
       "1          Water, Sugar, Angostura Bitters, Bourbon  \n",
       "2  Light Rum, lemon, Vodka, Gin, Tequila, Coca-Cola  \n",
       "3                      Sweet Vermouth, Gin, Campari  \n",
       "4    Powdered Sugar, lemon, Blended Whiskey, Cherry  "
      ]
     },
     "execution_count": 1,
     "metadata": {},
     "output_type": "execute_result"
    }
   ],
   "source": [
    "from visualization import unique_numbers, charts_ingredients, charts_glasses, logistic_regression, random_forest__regression\n",
    "import pandas as pd\n",
    "\n",
    "df = pd.read_csv(r\"C:\\Users\\marce\\Desktop\\machine_learning\\data\\processed_data.csv\")\n",
    "df.head()"
   ]
  },
  {
   "cell_type": "code",
   "execution_count": 3,
   "metadata": {},
   "outputs": [
    {
     "name": "stdout",
     "output_type": "stream",
     "text": [
      "\n",
      "Liczba unikalnych składników: 102\n",
      "\n",
      "Liczba unikalnych typów szkła: 11\n",
      "\n",
      "Liczba unikalnych kategorii: 3\n",
      "\n",
      "Liczba koktajli alkoholowych: 134\n"
     ]
    }
   ],
   "source": [
    "unique_numbers(df)"
   ]
  },
  {
   "cell_type": "code",
   "execution_count": null,
   "metadata": {},
   "outputs": [],
   "source": [
    "charts_ingredients(df)"
   ]
  },
  {
   "cell_type": "code",
   "execution_count": null,
   "metadata": {},
   "outputs": [],
   "source": [
    "charts_glasses(df)"
   ]
  },
  {
   "cell_type": "code",
   "execution_count": 2,
   "metadata": {},
   "outputs": [
    {
     "name": "stdout",
     "output_type": "stream",
     "text": [
      "Regresja logistyczna - dokładność: 0.5294117647058824\n",
      "Raport klasyfikacji (Regresja logistyczna):\n",
      "                     precision    recall  f1-score   support\n",
      "\n",
      "    Champagne flute       0.00      0.00      0.00         2\n",
      "     Cocktail glass       0.58      0.82      0.68        17\n",
      "     Highball glass       1.00      0.33      0.50         6\n",
      "Old-fashioned glass       0.33      0.50      0.40         4\n",
      "  Pousse cafe glass       0.00      0.00      0.00         2\n",
      " Whiskey sour glass       0.00      0.00      0.00         2\n",
      "   White wine glass       0.00      0.00      0.00         1\n",
      "\n",
      "           accuracy                           0.53        34\n",
      "          macro avg       0.27      0.24      0.23        34\n",
      "       weighted avg       0.51      0.53      0.48        34\n",
      "\n",
      "Macierz pomyłek (Regresja logistyczna):\n",
      "[[ 0  2  0  0  0  0  0]\n",
      " [ 0 14  0  2  0  1  0]\n",
      " [ 0  3  2  1  0  0  0]\n",
      " [ 0  1  0  2  0  1  0]\n",
      " [ 0  2  0  0  0  0  0]\n",
      " [ 0  1  0  1  0  0  0]\n",
      " [ 0  1  0  0  0  0  0]]\n"
     ]
    }
   ],
   "source": [
    "logistic_regression()"
   ]
  },
  {
   "cell_type": "code",
   "execution_count": null,
   "metadata": {},
   "outputs": [],
   "source": [
    "random_forest__regression()"
   ]
  },
  {
   "cell_type": "code",
   "execution_count": null,
   "metadata": {},
   "outputs": [],
   "source": []
  }
 ],
 "metadata": {
  "kernelspec": {
   "display_name": "Python 3",
   "language": "python",
   "name": "python3"
  },
  "language_info": {
   "codemirror_mode": {
    "name": "ipython",
    "version": 3
   },
   "file_extension": ".py",
   "mimetype": "text/x-python",
   "name": "python",
   "nbconvert_exporter": "python",
   "pygments_lexer": "ipython3",
   "version": "3.12.3"
  }
 },
 "nbformat": 4,
 "nbformat_minor": 2
}
